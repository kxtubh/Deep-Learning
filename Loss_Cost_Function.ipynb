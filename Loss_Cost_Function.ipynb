{
  "cells": [
    {
      "cell_type": "markdown",
      "metadata": {
        "id": "view-in-github",
        "colab_type": "text"
      },
      "source": [
        "<a href=\"https://colab.research.google.com/github/kxtubh/Deep-Learning/blob/main/Loss_Cost_Function.ipynb\" target=\"_parent\"><img src=\"https://colab.research.google.com/assets/colab-badge.svg\" alt=\"Open In Colab\"/></a>"
      ]
    },
    {
      "cell_type": "code",
      "execution_count": 1,
      "id": "979c19f6-9905-4c07-b07c-17a142b33b46",
      "metadata": {
        "id": "979c19f6-9905-4c07-b07c-17a142b33b46"
      },
      "outputs": [],
      "source": [
        "import numpy as np"
      ]
    },
    {
      "cell_type": "code",
      "execution_count": 2,
      "id": "71a5f1d6-9af2-49fa-9af5-9a06b762e329",
      "metadata": {
        "id": "71a5f1d6-9af2-49fa-9af5-9a06b762e329"
      },
      "outputs": [],
      "source": [
        "y_predicted = np.array([0,1,0,1,1,1,1,0,0,1])\n",
        "y_true = np.array([0.30,0.7,1,0,0.5,0.6,0.3,0.2,0.1,0.9])"
      ]
    },
    {
      "cell_type": "code",
      "source": [
        "y_predicted = np.random.randint(0, 2, 10)"
      ],
      "metadata": {
        "id": "ltpa2bkANffI"
      },
      "id": "ltpa2bkANffI",
      "execution_count": 57,
      "outputs": []
    },
    {
      "cell_type": "code",
      "source": [
        "y_true = np.random.uniform(0, 1, 10)"
      ],
      "metadata": {
        "id": "wnDx98O_OM4p"
      },
      "id": "wnDx98O_OM4p",
      "execution_count": 88,
      "outputs": []
    },
    {
      "cell_type": "code",
      "source": [
        "y_predicted"
      ],
      "metadata": {
        "colab": {
          "base_uri": "https://localhost:8080/"
        },
        "id": "3JcNz6eUOaqq",
        "outputId": "376f9e17-6c19-46c4-8ca0-a15ccf3b8fe4"
      },
      "id": "3JcNz6eUOaqq",
      "execution_count": 89,
      "outputs": [
        {
          "output_type": "execute_result",
          "data": {
            "text/plain": [
              "array([1, 0, 0, 1, 1, 0, 0, 1, 1, 0])"
            ]
          },
          "metadata": {},
          "execution_count": 89
        }
      ]
    },
    {
      "cell_type": "code",
      "source": [
        "y_true"
      ],
      "metadata": {
        "colab": {
          "base_uri": "https://localhost:8080/"
        },
        "id": "BTLiOPKHOb-Q",
        "outputId": "44dfa495-3efc-4f7c-baf7-3c83679eff79"
      },
      "id": "BTLiOPKHOb-Q",
      "execution_count": 90,
      "outputs": [
        {
          "output_type": "execute_result",
          "data": {
            "text/plain": [
              "array([0.69399922, 0.47515505, 0.18529837, 0.18154252, 0.07580292,\n",
              "       0.04719669, 0.86435625, 0.86265962, 0.81906112, 0.95346937])"
            ]
          },
          "metadata": {},
          "execution_count": 90
        }
      ]
    },
    {
      "cell_type": "code",
      "execution_count": 91,
      "id": "fcf69833-f7ab-4225-a569-b734ef26baa7",
      "metadata": {
        "id": "fcf69833-f7ab-4225-a569-b734ef26baa7"
      },
      "outputs": [],
      "source": [
        "def mae(y_predicted, y_true):\n",
        "    total_error = 0\n",
        "    for yp, yt in zip(y_predicted, y_true):\n",
        "        total_error += abs(yp - yt)\n",
        "    print(\"Total error is:\",total_error)\n",
        "    mae = total_error/len(y_predicted)\n",
        "    print(\"Mean absolute error is:\",mae)\n",
        "    return mae"
      ]
    },
    {
      "cell_type": "code",
      "execution_count": 92,
      "id": "3d538e78-7012-4cd9-a8bb-b6669ea966cd",
      "metadata": {
        "colab": {
          "base_uri": "https://localhost:8080/"
        },
        "id": "3d538e78-7012-4cd9-a8bb-b6669ea966cd",
        "outputId": "7659f36a-555b-414f-a953-35d6576332e4"
      },
      "outputs": [
        {
          "output_type": "stream",
          "name": "stdout",
          "text": [
            "Total error is: 4.89241032730793\n",
            "Mean absolute error is: 0.489241032730793\n"
          ]
        },
        {
          "output_type": "execute_result",
          "data": {
            "text/plain": [
              "np.float64(0.489241032730793)"
            ]
          },
          "metadata": {},
          "execution_count": 92
        }
      ],
      "source": [
        "mae(y_predicted, y_true)"
      ]
    },
    {
      "cell_type": "code",
      "execution_count": 93,
      "id": "009391a0-d076-4bcf-9283-1e2204fb75af",
      "metadata": {
        "colab": {
          "base_uri": "https://localhost:8080/"
        },
        "id": "009391a0-d076-4bcf-9283-1e2204fb75af",
        "outputId": "e40b8886-8699-4083-ec98-ab9a76ec4a67"
      },
      "outputs": [
        {
          "output_type": "execute_result",
          "data": {
            "text/plain": [
              "array([0.30600078, 0.47515505, 0.18529837, 0.81845748, 0.92419708,\n",
              "       0.04719669, 0.86435625, 0.13734038, 0.18093888, 0.95346937])"
            ]
          },
          "metadata": {},
          "execution_count": 93
        }
      ],
      "source": [
        "np.abs(y_predicted-y_true)"
      ]
    },
    {
      "cell_type": "code",
      "execution_count": 94,
      "id": "62bea9b2-b4e9-40a5-a2f0-496f3ff23786",
      "metadata": {
        "colab": {
          "base_uri": "https://localhost:8080/"
        },
        "id": "62bea9b2-b4e9-40a5-a2f0-496f3ff23786",
        "outputId": "a935980b-f083-4684-f2b4-82620c0df208"
      },
      "outputs": [
        {
          "output_type": "execute_result",
          "data": {
            "text/plain": [
              "np.float64(0.4892410327307931)"
            ]
          },
          "metadata": {},
          "execution_count": 94
        }
      ],
      "source": [
        "np.mean(np.abs(y_predicted-y_true))"
      ]
    },
    {
      "cell_type": "code",
      "execution_count": 96,
      "id": "8507ca7d-8737-4d47-b185-3b81f8fefbab",
      "metadata": {
        "id": "8507ca7d-8737-4d47-b185-3b81f8fefbab"
      },
      "outputs": [],
      "source": [
        "def mae_np(y_predicted, y_true):\n",
        "    return np.mean(np.abs(y_predicted-y_true))"
      ]
    },
    {
      "cell_type": "code",
      "execution_count": 97,
      "id": "00634241-6bbc-4602-bed0-ce1502351f93",
      "metadata": {
        "colab": {
          "base_uri": "https://localhost:8080/"
        },
        "id": "00634241-6bbc-4602-bed0-ce1502351f93",
        "outputId": "8471dc28-c32d-4e9b-c870-4aee5206f96f"
      },
      "outputs": [
        {
          "output_type": "execute_result",
          "data": {
            "text/plain": [
              "np.float64(0.4892410327307931)"
            ]
          },
          "metadata": {},
          "execution_count": 97
        }
      ],
      "source": [
        "mae_np(y_predicted, y_true)"
      ]
    },
    {
      "cell_type": "code",
      "execution_count": 98,
      "id": "870cbb57-915c-44f4-abc2-7b5a8947f3fb",
      "metadata": {
        "colab": {
          "base_uri": "https://localhost:8080/"
        },
        "id": "870cbb57-915c-44f4-abc2-7b5a8947f3fb",
        "outputId": "a111e118-0903-451c-9768-4ed21327d75b"
      },
      "outputs": [
        {
          "output_type": "stream",
          "name": "stderr",
          "text": [
            "<ipython-input-98-faee82fd9f21>:1: RuntimeWarning: divide by zero encountered in log\n",
            "  np.log([0])\n"
          ]
        },
        {
          "output_type": "execute_result",
          "data": {
            "text/plain": [
              "array([-inf])"
            ]
          },
          "metadata": {},
          "execution_count": 98
        }
      ],
      "source": [
        "np.log([0])"
      ]
    },
    {
      "cell_type": "code",
      "execution_count": 99,
      "id": "77c10590-42c6-483c-b678-1760452efac0",
      "metadata": {
        "id": "77c10590-42c6-483c-b678-1760452efac0"
      },
      "outputs": [],
      "source": [
        "epsilon = 1e-15"
      ]
    },
    {
      "cell_type": "code",
      "execution_count": 100,
      "id": "58e65f6b-5aa5-42d3-afdf-f864b90b0a4b",
      "metadata": {
        "colab": {
          "base_uri": "https://localhost:8080/"
        },
        "id": "58e65f6b-5aa5-42d3-afdf-f864b90b0a4b",
        "outputId": "b7d7194c-a616-4f29-db5e-1c058841f8b5"
      },
      "outputs": [
        {
          "output_type": "execute_result",
          "data": {
            "text/plain": [
              "array([-34.53877639])"
            ]
          },
          "metadata": {},
          "execution_count": 100
        }
      ],
      "source": [
        "np.log([1e-15])"
      ]
    },
    {
      "cell_type": "code",
      "execution_count": 101,
      "id": "550bd4a5-584e-472e-9af2-55e2a646e668",
      "metadata": {
        "colab": {
          "base_uri": "https://localhost:8080/"
        },
        "id": "550bd4a5-584e-472e-9af2-55e2a646e668",
        "outputId": "3fb0274f-1841-4335-b065-09c963f51a5a"
      },
      "outputs": [
        {
          "output_type": "execute_result",
          "data": {
            "text/plain": [
              "array([1, 0, 0, 1, 1, 0, 0, 1, 1, 0])"
            ]
          },
          "metadata": {},
          "execution_count": 101
        }
      ],
      "source": [
        "y_predicted"
      ]
    },
    {
      "cell_type": "code",
      "execution_count": 102,
      "id": "1006315d-7172-48d5-b349-725393be526e",
      "metadata": {
        "colab": {
          "base_uri": "https://localhost:8080/"
        },
        "id": "1006315d-7172-48d5-b349-725393be526e",
        "outputId": "555ae1dd-04f3-4034-aec1-7fa0342d7934"
      },
      "outputs": [
        {
          "output_type": "execute_result",
          "data": {
            "text/plain": [
              "[np.int64(1),\n",
              " 1e-15,\n",
              " 1e-15,\n",
              " np.int64(1),\n",
              " np.int64(1),\n",
              " 1e-15,\n",
              " 1e-15,\n",
              " np.int64(1),\n",
              " np.int64(1),\n",
              " 1e-15]"
            ]
          },
          "metadata": {},
          "execution_count": 102
        }
      ],
      "source": [
        "y_predicted_new = [max(i,epsilon) for i in y_predicted]\n",
        "y_predicted_new"
      ]
    },
    {
      "cell_type": "code",
      "execution_count": 103,
      "id": "504aa396-14ad-4557-9124-fc6321c3fe21",
      "metadata": {
        "colab": {
          "base_uri": "https://localhost:8080/"
        },
        "id": "504aa396-14ad-4557-9124-fc6321c3fe21",
        "outputId": "582f7500-687f-4ac3-f661-3578490ca342"
      },
      "outputs": [
        {
          "output_type": "execute_result",
          "data": {
            "text/plain": [
              "0.999999999999999"
            ]
          },
          "metadata": {},
          "execution_count": 103
        }
      ],
      "source": [
        "1-epsilon"
      ]
    },
    {
      "cell_type": "code",
      "execution_count": 104,
      "id": "b2d8ce77-ef96-45c2-9fef-04afe692f738",
      "metadata": {
        "colab": {
          "base_uri": "https://localhost:8080/"
        },
        "id": "b2d8ce77-ef96-45c2-9fef-04afe692f738",
        "outputId": "3d4d7f4d-6bc4-4753-c362-1cf15cd33b42"
      },
      "outputs": [
        {
          "output_type": "execute_result",
          "data": {
            "text/plain": [
              "[0.999999999999999,\n",
              " 1e-15,\n",
              " 1e-15,\n",
              " 0.999999999999999,\n",
              " 0.999999999999999,\n",
              " 1e-15,\n",
              " 1e-15,\n",
              " 0.999999999999999,\n",
              " 0.999999999999999,\n",
              " 1e-15]"
            ]
          },
          "metadata": {},
          "execution_count": 104
        }
      ],
      "source": [
        "y_predicted_new = [min(i,1-epsilon) for i in y_predicted_new]\n",
        "y_predicted_new"
      ]
    },
    {
      "cell_type": "code",
      "execution_count": 105,
      "id": "d0480bb2-436e-4e79-9baa-d1eeae04c989",
      "metadata": {
        "id": "d0480bb2-436e-4e79-9baa-d1eeae04c989"
      },
      "outputs": [],
      "source": [
        "y_predicted_new = np.array(y_predicted_new)"
      ]
    },
    {
      "cell_type": "code",
      "execution_count": 106,
      "id": "08035697-27da-4891-8a9b-dbc3f4f163c9",
      "metadata": {
        "colab": {
          "base_uri": "https://localhost:8080/"
        },
        "id": "08035697-27da-4891-8a9b-dbc3f4f163c9",
        "outputId": "0e51fa75-9050-46df-85a4-99ce59cf3859"
      },
      "outputs": [
        {
          "output_type": "execute_result",
          "data": {
            "text/plain": [
              "array([-9.99200722e-16, -3.45387764e+01, -3.45387764e+01, -9.99200722e-16,\n",
              "       -9.99200722e-16, -3.45387764e+01, -3.45387764e+01, -9.99200722e-16,\n",
              "       -9.99200722e-16, -3.45387764e+01])"
            ]
          },
          "metadata": {},
          "execution_count": 106
        }
      ],
      "source": [
        "np.log(y_predicted_new)"
      ]
    },
    {
      "cell_type": "code",
      "execution_count": 107,
      "id": "7501b82e-a8e2-43d6-b891-414a1aaf500f",
      "metadata": {
        "colab": {
          "base_uri": "https://localhost:8080/"
        },
        "id": "7501b82e-a8e2-43d6-b891-414a1aaf500f",
        "outputId": "935c8a43-51a1-4ca9-ff67-a6ab9b0c551f"
      },
      "outputs": [
        {
          "output_type": "execute_result",
          "data": {
            "text/plain": [
              "np.float64(16.897975892185496)"
            ]
          },
          "metadata": {},
          "execution_count": 107
        }
      ],
      "source": [
        "-np.mean(y_true*np.log(y_predicted_new)+(1-y_true)*np.log(1-y_predicted_new))"
      ]
    },
    {
      "cell_type": "code",
      "execution_count": 108,
      "id": "7af1a1de-3510-4214-a3c2-0c89ac654816",
      "metadata": {
        "id": "7af1a1de-3510-4214-a3c2-0c89ac654816"
      },
      "outputs": [],
      "source": [
        "def log_loss(y_true, y_predicted):\n",
        "    y_predicted_new = [max(i,epsilon) for i in y_predicted]\n",
        "    y_predicted_new = [min(i,1-epsilon) for i in y_predicted_new]\n",
        "    y_predicted_new = np.array(y_predicted_new)\n",
        "    return -np.mean(y_true*np.log(y_predicted_new)+(1-y_true)*np.log(1-y_predicted_new))"
      ]
    },
    {
      "cell_type": "code",
      "execution_count": 109,
      "id": "6621aae4-0f23-465d-bc7c-16fa46624598",
      "metadata": {
        "colab": {
          "base_uri": "https://localhost:8080/"
        },
        "id": "6621aae4-0f23-465d-bc7c-16fa46624598",
        "outputId": "4b394032-a2bf-4c18-a0e1-2d92e3264e0c"
      },
      "outputs": [
        {
          "output_type": "execute_result",
          "data": {
            "text/plain": [
              "np.float64(16.897975892185496)"
            ]
          },
          "metadata": {},
          "execution_count": 109
        }
      ],
      "source": [
        "log_loss(y_true, y_predicted)"
      ]
    },
    {
      "cell_type": "code",
      "execution_count": 110,
      "id": "d2395246-637d-402a-9f21-2bc399ae7a6b",
      "metadata": {
        "colab": {
          "base_uri": "https://localhost:8080/"
        },
        "id": "d2395246-637d-402a-9f21-2bc399ae7a6b",
        "outputId": "c00ba2d6-7b93-457b-8a00-33bbec30d5e1"
      },
      "outputs": [
        {
          "output_type": "stream",
          "name": "stdout",
          "text": [
            "0.35878015235060734\n"
          ]
        }
      ],
      "source": [
        "#Without Numpy [Hardcode]\n",
        "def mse(y_predicted, y_true):\n",
        "    total_error = 0\n",
        "    for yp, yt in zip(y_predicted, y_true):\n",
        "        total_error += (yp - yt) ** 2\n",
        "    mse_value = total_error / len(y_predicted)\n",
        "    return mse_value\n",
        "\n",
        "print(mse(y_predicted, y_true))"
      ]
    },
    {
      "cell_type": "code",
      "execution_count": 111,
      "id": "9ee9fe8d",
      "metadata": {
        "colab": {
          "base_uri": "https://localhost:8080/"
        },
        "id": "9ee9fe8d",
        "outputId": "ab16d0b2-682c-4f12-9b1c-23ad7626f4ca"
      },
      "outputs": [
        {
          "output_type": "stream",
          "name": "stdout",
          "text": [
            "0.35878015235060734\n"
          ]
        }
      ],
      "source": [
        "#With Numpy\n",
        "def mse_np(y_predicted, y_true):\n",
        "    return np.mean((y_predicted - y_true) ** 2)\n",
        "\n",
        "print(mse_np(y_predicted, y_true))"
      ]
    }
  ],
  "metadata": {
    "kernelspec": {
      "display_name": "myenv",
      "language": "python",
      "name": "python3"
    },
    "language_info": {
      "codemirror_mode": {
        "name": "ipython",
        "version": 3
      },
      "file_extension": ".py",
      "mimetype": "text/x-python",
      "name": "python",
      "nbconvert_exporter": "python",
      "pygments_lexer": "ipython3",
      "version": "3.12.9"
    },
    "colab": {
      "provenance": [],
      "include_colab_link": true
    }
  },
  "nbformat": 4,
  "nbformat_minor": 5
}