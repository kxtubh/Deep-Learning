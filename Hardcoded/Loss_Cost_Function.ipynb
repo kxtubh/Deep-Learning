{
  "cells": [
    {
      "cell_type": "markdown",
      "metadata": {
        "id": "view-in-github",
        "colab_type": "text"
      },
      "source": [
        "<a href=\"https://colab.research.google.com/github/kxtubh/Deep-Learning/blob/main/Hardcoded/Loss_Cost_Function.ipynb\" target=\"_parent\"><img src=\"https://colab.research.google.com/assets/colab-badge.svg\" alt=\"Open In Colab\"/></a>"
      ]
    },
    {
      "cell_type": "code",
      "execution_count": 1,
      "id": "979c19f6-9905-4c07-b07c-17a142b33b46",
      "metadata": {
        "id": "979c19f6-9905-4c07-b07c-17a142b33b46"
      },
      "outputs": [],
      "source": [
        "import numpy as np"
      ]
    },
    {
      "cell_type": "code",
      "source": [
        "y_predicted = np.random.randint(0, 2, 10)"
      ],
      "metadata": {
        "id": "ltpa2bkANffI"
      },
      "id": "ltpa2bkANffI",
      "execution_count": 2,
      "outputs": []
    },
    {
      "cell_type": "code",
      "source": [
        "y_true = np.random.uniform(0, 1, 10)"
      ],
      "metadata": {
        "id": "wnDx98O_OM4p"
      },
      "id": "wnDx98O_OM4p",
      "execution_count": 3,
      "outputs": []
    },
    {
      "cell_type": "code",
      "source": [
        "y_predicted"
      ],
      "metadata": {
        "colab": {
          "base_uri": "https://localhost:8080/"
        },
        "id": "3JcNz6eUOaqq",
        "outputId": "21a12a14-fcce-4efc-cb9a-a4ce06cbbf41"
      },
      "id": "3JcNz6eUOaqq",
      "execution_count": 4,
      "outputs": [
        {
          "output_type": "execute_result",
          "data": {
            "text/plain": [
              "array([0, 0, 0, 1, 1, 0, 1, 1, 1, 0])"
            ]
          },
          "metadata": {},
          "execution_count": 4
        }
      ]
    },
    {
      "cell_type": "code",
      "source": [
        "y_true"
      ],
      "metadata": {
        "colab": {
          "base_uri": "https://localhost:8080/"
        },
        "id": "BTLiOPKHOb-Q",
        "outputId": "7c3e9c05-6b32-437d-88b0-f2302e86859c"
      },
      "id": "BTLiOPKHOb-Q",
      "execution_count": 5,
      "outputs": [
        {
          "output_type": "execute_result",
          "data": {
            "text/plain": [
              "array([0.15787098, 0.26973053, 0.79440259, 0.98684796, 0.87284939,\n",
              "       0.79134042, 0.1104726 , 0.50049287, 0.83588207, 0.09129846])"
            ]
          },
          "metadata": {},
          "execution_count": 5
        }
      ]
    },
    {
      "cell_type": "code",
      "execution_count": 6,
      "id": "fcf69833-f7ab-4225-a569-b734ef26baa7",
      "metadata": {
        "id": "fcf69833-f7ab-4225-a569-b734ef26baa7"
      },
      "outputs": [],
      "source": [
        "def mae(y_predicted, y_true):\n",
        "    total_error = 0\n",
        "    for yp, yt in zip(y_predicted, y_true):\n",
        "        total_error += abs(yp - yt)\n",
        "    print(\"Total error is:\",total_error)\n",
        "    mae = total_error/len(y_predicted)\n",
        "    print(\"Mean absolute error is:\",mae)\n",
        "    return mae"
      ]
    },
    {
      "cell_type": "code",
      "execution_count": 7,
      "id": "3d538e78-7012-4cd9-a8bb-b6669ea966cd",
      "metadata": {
        "colab": {
          "base_uri": "https://localhost:8080/"
        },
        "id": "3d538e78-7012-4cd9-a8bb-b6669ea966cd",
        "outputId": "60addcdc-cc80-466d-bbb6-05c4904ee672"
      },
      "outputs": [
        {
          "output_type": "stream",
          "name": "stdout",
          "text": [
            "Total error is: 3.7980980864942464\n",
            "Mean absolute error is: 0.37980980864942465\n"
          ]
        },
        {
          "output_type": "execute_result",
          "data": {
            "text/plain": [
              "np.float64(0.37980980864942465)"
            ]
          },
          "metadata": {},
          "execution_count": 7
        }
      ],
      "source": [
        "mae(y_predicted, y_true)"
      ]
    },
    {
      "cell_type": "code",
      "execution_count": 8,
      "id": "009391a0-d076-4bcf-9283-1e2204fb75af",
      "metadata": {
        "colab": {
          "base_uri": "https://localhost:8080/"
        },
        "id": "009391a0-d076-4bcf-9283-1e2204fb75af",
        "outputId": "5d285972-5902-425c-b911-1e480349f42f"
      },
      "outputs": [
        {
          "output_type": "execute_result",
          "data": {
            "text/plain": [
              "array([0.15787098, 0.26973053, 0.79440259, 0.01315204, 0.12715061,\n",
              "       0.79134042, 0.8895274 , 0.49950713, 0.16411793, 0.09129846])"
            ]
          },
          "metadata": {},
          "execution_count": 8
        }
      ],
      "source": [
        "np.abs(y_predicted-y_true)"
      ]
    },
    {
      "cell_type": "code",
      "execution_count": 9,
      "id": "62bea9b2-b4e9-40a5-a2f0-496f3ff23786",
      "metadata": {
        "colab": {
          "base_uri": "https://localhost:8080/"
        },
        "id": "62bea9b2-b4e9-40a5-a2f0-496f3ff23786",
        "outputId": "cc9709bd-e680-44c3-d74a-e94c0c6ac9d3"
      },
      "outputs": [
        {
          "output_type": "execute_result",
          "data": {
            "text/plain": [
              "np.float64(0.3798098086494246)"
            ]
          },
          "metadata": {},
          "execution_count": 9
        }
      ],
      "source": [
        "np.mean(np.abs(y_predicted-y_true))"
      ]
    },
    {
      "cell_type": "code",
      "execution_count": 10,
      "id": "8507ca7d-8737-4d47-b185-3b81f8fefbab",
      "metadata": {
        "id": "8507ca7d-8737-4d47-b185-3b81f8fefbab"
      },
      "outputs": [],
      "source": [
        "def mae_np(y_predicted, y_true):\n",
        "    return np.mean(np.abs(y_predicted-y_true))"
      ]
    },
    {
      "cell_type": "code",
      "execution_count": 11,
      "id": "00634241-6bbc-4602-bed0-ce1502351f93",
      "metadata": {
        "colab": {
          "base_uri": "https://localhost:8080/"
        },
        "id": "00634241-6bbc-4602-bed0-ce1502351f93",
        "outputId": "7b8fcf4d-244d-4bfc-af5c-207df8ef001a"
      },
      "outputs": [
        {
          "output_type": "execute_result",
          "data": {
            "text/plain": [
              "np.float64(0.3798098086494246)"
            ]
          },
          "metadata": {},
          "execution_count": 11
        }
      ],
      "source": [
        "mae_np(y_predicted, y_true)"
      ]
    },
    {
      "cell_type": "code",
      "execution_count": 12,
      "id": "870cbb57-915c-44f4-abc2-7b5a8947f3fb",
      "metadata": {
        "colab": {
          "base_uri": "https://localhost:8080/"
        },
        "id": "870cbb57-915c-44f4-abc2-7b5a8947f3fb",
        "outputId": "3dc157a4-0b92-4937-8417-8f72c9d0bfd7"
      },
      "outputs": [
        {
          "output_type": "stream",
          "name": "stderr",
          "text": [
            "<ipython-input-12-faee82fd9f21>:1: RuntimeWarning: divide by zero encountered in log\n",
            "  np.log([0])\n"
          ]
        },
        {
          "output_type": "execute_result",
          "data": {
            "text/plain": [
              "array([-inf])"
            ]
          },
          "metadata": {},
          "execution_count": 12
        }
      ],
      "source": [
        "np.log([0])"
      ]
    },
    {
      "cell_type": "code",
      "execution_count": 13,
      "id": "77c10590-42c6-483c-b678-1760452efac0",
      "metadata": {
        "id": "77c10590-42c6-483c-b678-1760452efac0"
      },
      "outputs": [],
      "source": [
        "epsilon = 1e-15"
      ]
    },
    {
      "cell_type": "code",
      "execution_count": 14,
      "id": "58e65f6b-5aa5-42d3-afdf-f864b90b0a4b",
      "metadata": {
        "colab": {
          "base_uri": "https://localhost:8080/"
        },
        "id": "58e65f6b-5aa5-42d3-afdf-f864b90b0a4b",
        "outputId": "1124f909-db40-45c0-c11c-60d55509fbfa"
      },
      "outputs": [
        {
          "output_type": "execute_result",
          "data": {
            "text/plain": [
              "array([-34.53877639])"
            ]
          },
          "metadata": {},
          "execution_count": 14
        }
      ],
      "source": [
        "np.log([1e-15])"
      ]
    },
    {
      "cell_type": "code",
      "execution_count": 15,
      "id": "550bd4a5-584e-472e-9af2-55e2a646e668",
      "metadata": {
        "colab": {
          "base_uri": "https://localhost:8080/"
        },
        "id": "550bd4a5-584e-472e-9af2-55e2a646e668",
        "outputId": "20984290-7903-4b03-d738-d31706b42d07"
      },
      "outputs": [
        {
          "output_type": "execute_result",
          "data": {
            "text/plain": [
              "array([0, 0, 0, 1, 1, 0, 1, 1, 1, 0])"
            ]
          },
          "metadata": {},
          "execution_count": 15
        }
      ],
      "source": [
        "y_predicted"
      ]
    },
    {
      "cell_type": "code",
      "execution_count": 16,
      "id": "1006315d-7172-48d5-b349-725393be526e",
      "metadata": {
        "colab": {
          "base_uri": "https://localhost:8080/"
        },
        "id": "1006315d-7172-48d5-b349-725393be526e",
        "outputId": "7b2d05d6-01bd-46a6-bc01-14e649f57d68"
      },
      "outputs": [
        {
          "output_type": "execute_result",
          "data": {
            "text/plain": [
              "[1e-15,\n",
              " 1e-15,\n",
              " 1e-15,\n",
              " np.int64(1),\n",
              " np.int64(1),\n",
              " 1e-15,\n",
              " np.int64(1),\n",
              " np.int64(1),\n",
              " np.int64(1),\n",
              " 1e-15]"
            ]
          },
          "metadata": {},
          "execution_count": 16
        }
      ],
      "source": [
        "y_predicted_new = [max(i,epsilon) for i in y_predicted]\n",
        "y_predicted_new"
      ]
    },
    {
      "cell_type": "code",
      "execution_count": 17,
      "id": "504aa396-14ad-4557-9124-fc6321c3fe21",
      "metadata": {
        "colab": {
          "base_uri": "https://localhost:8080/"
        },
        "id": "504aa396-14ad-4557-9124-fc6321c3fe21",
        "outputId": "1bb92c65-e67a-47a1-dc0c-50bf33214508"
      },
      "outputs": [
        {
          "output_type": "execute_result",
          "data": {
            "text/plain": [
              "0.999999999999999"
            ]
          },
          "metadata": {},
          "execution_count": 17
        }
      ],
      "source": [
        "1-epsilon"
      ]
    },
    {
      "cell_type": "code",
      "execution_count": 18,
      "id": "b2d8ce77-ef96-45c2-9fef-04afe692f738",
      "metadata": {
        "colab": {
          "base_uri": "https://localhost:8080/"
        },
        "id": "b2d8ce77-ef96-45c2-9fef-04afe692f738",
        "outputId": "04c63408-8185-4aff-8ed4-de66900ac9d7"
      },
      "outputs": [
        {
          "output_type": "execute_result",
          "data": {
            "text/plain": [
              "[1e-15,\n",
              " 1e-15,\n",
              " 1e-15,\n",
              " 0.999999999999999,\n",
              " 0.999999999999999,\n",
              " 1e-15,\n",
              " 0.999999999999999,\n",
              " 0.999999999999999,\n",
              " 0.999999999999999,\n",
              " 1e-15]"
            ]
          },
          "metadata": {},
          "execution_count": 18
        }
      ],
      "source": [
        "y_predicted_new = [min(i,1-epsilon) for i in y_predicted_new]\n",
        "y_predicted_new"
      ]
    },
    {
      "cell_type": "code",
      "execution_count": 19,
      "id": "d0480bb2-436e-4e79-9baa-d1eeae04c989",
      "metadata": {
        "id": "d0480bb2-436e-4e79-9baa-d1eeae04c989"
      },
      "outputs": [],
      "source": [
        "y_predicted_new = np.array(y_predicted_new)"
      ]
    },
    {
      "cell_type": "code",
      "execution_count": 20,
      "id": "08035697-27da-4891-8a9b-dbc3f4f163c9",
      "metadata": {
        "colab": {
          "base_uri": "https://localhost:8080/"
        },
        "id": "08035697-27da-4891-8a9b-dbc3f4f163c9",
        "outputId": "b6903b9a-1015-4dbc-b0ba-8c2dc80c63df"
      },
      "outputs": [
        {
          "output_type": "execute_result",
          "data": {
            "text/plain": [
              "array([-3.45387764e+01, -3.45387764e+01, -3.45387764e+01, -9.99200722e-16,\n",
              "       -9.99200722e-16, -3.45387764e+01, -9.99200722e-16, -9.99200722e-16,\n",
              "       -9.99200722e-16, -3.45387764e+01])"
            ]
          },
          "metadata": {},
          "execution_count": 20
        }
      ],
      "source": [
        "np.log(y_predicted_new)"
      ]
    },
    {
      "cell_type": "code",
      "execution_count": 21,
      "id": "7501b82e-a8e2-43d6-b891-414a1aaf500f",
      "metadata": {
        "colab": {
          "base_uri": "https://localhost:8080/"
        },
        "id": "7501b82e-a8e2-43d6-b891-414a1aaf500f",
        "outputId": "07ee0912-7b31-45cf-e610-25ad0aea749e"
      },
      "outputs": [
        {
          "output_type": "execute_result",
          "data": {
            "text/plain": [
              "np.float64(13.118301461772026)"
            ]
          },
          "metadata": {},
          "execution_count": 21
        }
      ],
      "source": [
        "-np.mean(y_true*np.log(y_predicted_new)+(1-y_true)*np.log(1-y_predicted_new))"
      ]
    },
    {
      "cell_type": "code",
      "execution_count": 22,
      "id": "7af1a1de-3510-4214-a3c2-0c89ac654816",
      "metadata": {
        "id": "7af1a1de-3510-4214-a3c2-0c89ac654816"
      },
      "outputs": [],
      "source": [
        "def log_loss(y_true, y_predicted):\n",
        "    y_predicted_new = [max(i,epsilon) for i in y_predicted]\n",
        "    y_predicted_new = [min(i,1-epsilon) for i in y_predicted_new]\n",
        "    y_predicted_new = np.array(y_predicted_new)\n",
        "    return -np.mean(y_true*np.log(y_predicted_new)+(1-y_true)*np.log(1-y_predicted_new))"
      ]
    },
    {
      "cell_type": "code",
      "execution_count": 23,
      "id": "6621aae4-0f23-465d-bc7c-16fa46624598",
      "metadata": {
        "colab": {
          "base_uri": "https://localhost:8080/"
        },
        "id": "6621aae4-0f23-465d-bc7c-16fa46624598",
        "outputId": "c487944a-f37f-40e2-f0ab-9f79cff6609d"
      },
      "outputs": [
        {
          "output_type": "execute_result",
          "data": {
            "text/plain": [
              "np.float64(13.118301461772026)"
            ]
          },
          "metadata": {},
          "execution_count": 23
        }
      ],
      "source": [
        "log_loss(y_true, y_predicted)"
      ]
    },
    {
      "cell_type": "code",
      "execution_count": 24,
      "id": "d2395246-637d-402a-9f21-2bc399ae7a6b",
      "metadata": {
        "colab": {
          "base_uri": "https://localhost:8080/"
        },
        "id": "d2395246-637d-402a-9f21-2bc399ae7a6b",
        "outputId": "308789ed-805a-44c6-f2a1-60536bf321ea"
      },
      "outputs": [
        {
          "output_type": "stream",
          "name": "stdout",
          "text": [
            "0.24473496551019652\n"
          ]
        }
      ],
      "source": [
        "#Without Numpy [Hardcode]\n",
        "def mse(y_predicted, y_true):\n",
        "    total_error = 0\n",
        "    for yp, yt in zip(y_predicted, y_true):\n",
        "        total_error += (yp - yt) ** 2\n",
        "    mse_value = total_error / len(y_predicted)\n",
        "    return mse_value\n",
        "\n",
        "print(mse(y_predicted, y_true))"
      ]
    },
    {
      "cell_type": "code",
      "execution_count": 25,
      "id": "9ee9fe8d",
      "metadata": {
        "colab": {
          "base_uri": "https://localhost:8080/"
        },
        "id": "9ee9fe8d",
        "outputId": "4d6f3c2a-5d6e-4869-b3dc-e9bbb77693ec"
      },
      "outputs": [
        {
          "output_type": "stream",
          "name": "stdout",
          "text": [
            "0.24473496551019652\n"
          ]
        }
      ],
      "source": [
        "#With Numpy\n",
        "def mse_np(y_predicted, y_true):\n",
        "    return np.mean((y_predicted - y_true) ** 2)\n",
        "\n",
        "print(mse_np(y_predicted, y_true))"
      ]
    }
  ],
  "metadata": {
    "kernelspec": {
      "display_name": "myenv",
      "language": "python",
      "name": "python3"
    },
    "language_info": {
      "codemirror_mode": {
        "name": "ipython",
        "version": 3
      },
      "file_extension": ".py",
      "mimetype": "text/x-python",
      "name": "python",
      "nbconvert_exporter": "python",
      "pygments_lexer": "ipython3",
      "version": "3.12.9"
    },
    "colab": {
      "provenance": [],
      "include_colab_link": true
    }
  },
  "nbformat": 4,
  "nbformat_minor": 5
}